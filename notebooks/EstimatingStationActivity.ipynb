{
 "cells": [
  {
   "cell_type": "markdown",
   "metadata": {},
   "source": [
    "<h1> Modeling station activity within a puma. </h1>"
   ]
  },
  {
   "cell_type": "markdown",
   "metadata": {},
   "source": [
    "I have modeled the flux between regions of citibike stations (pumas). Within a puma however, there can be between 4 and 100+ docking stations for users to acquire or drop off citibikes. I will model the extra- and intra- puma movement."
   ]
  },
  {
   "cell_type": "code",
   "execution_count": 1,
   "metadata": {},
   "outputs": [],
   "source": [
    "import pandas as pd\n",
    "import numpy as np\n",
    "import pylab as pl\n",
    "import os\n",
    "import pickle"
   ]
  },
  {
   "cell_type": "code",
   "execution_count": 2,
   "metadata": {},
   "outputs": [],
   "source": [
    "pl.rcParams.update({'font.size':22,\n",
    "                   'figure.figsize':(12,6)})"
   ]
  },
  {
   "cell_type": "code",
   "execution_count": 3,
   "metadata": {},
   "outputs": [],
   "source": [
    "fn = '/media/mark/TOSHIBA EXT1/Projects/InAPinch/data/citibike/trip_data/2018{:02}-citibike-tripdata.csv'"
   ]
  },
  {
   "cell_type": "code",
   "execution_count": 4,
   "metadata": {},
   "outputs": [],
   "source": [
    "# Import data.\n",
    "trip_data = pd.concat([pd.read_csv(fn.format(12)), pd.read_csv(fn.format(11))])"
   ]
  },
  {
   "cell_type": "code",
   "execution_count": 5,
   "metadata": {},
   "outputs": [],
   "source": [
    "# Remove weird data.\n",
    "trip_data = trip_data[trip_data['start station id'] != 3239]\n",
    "trip_data = trip_data[trip_data['start station id'] != 3245]"
   ]
  },
  {
   "cell_type": "code",
   "execution_count": 6,
   "metadata": {},
   "outputs": [
    {
     "data": {
      "text/html": [
       "<div>\n",
       "<style scoped>\n",
       "    .dataframe tbody tr th:only-of-type {\n",
       "        vertical-align: middle;\n",
       "    }\n",
       "\n",
       "    .dataframe tbody tr th {\n",
       "        vertical-align: top;\n",
       "    }\n",
       "\n",
       "    .dataframe thead th {\n",
       "        text-align: right;\n",
       "    }\n",
       "</style>\n",
       "<table border=\"1\" class=\"dataframe\">\n",
       "  <thead>\n",
       "    <tr style=\"text-align: right;\">\n",
       "      <th></th>\n",
       "      <th>tripduration</th>\n",
       "      <th>starttime</th>\n",
       "      <th>stoptime</th>\n",
       "      <th>start station id</th>\n",
       "      <th>start station name</th>\n",
       "      <th>start station latitude</th>\n",
       "      <th>start station longitude</th>\n",
       "      <th>end station id</th>\n",
       "      <th>end station name</th>\n",
       "      <th>end station latitude</th>\n",
       "      <th>end station longitude</th>\n",
       "      <th>bikeid</th>\n",
       "      <th>usertype</th>\n",
       "      <th>birth year</th>\n",
       "      <th>gender</th>\n",
       "    </tr>\n",
       "  </thead>\n",
       "  <tbody>\n",
       "    <tr>\n",
       "      <th>0</th>\n",
       "      <td>689</td>\n",
       "      <td>2018-12-01 00:00:04.3020</td>\n",
       "      <td>2018-12-01 00:11:33.8460</td>\n",
       "      <td>3359.0</td>\n",
       "      <td>E 68 St &amp; Madison Ave</td>\n",
       "      <td>40.769157</td>\n",
       "      <td>-73.967035</td>\n",
       "      <td>164.0</td>\n",
       "      <td>E 47 St &amp; 2 Ave</td>\n",
       "      <td>40.753231</td>\n",
       "      <td>-73.970325</td>\n",
       "      <td>35033</td>\n",
       "      <td>Subscriber</td>\n",
       "      <td>1989</td>\n",
       "      <td>1</td>\n",
       "    </tr>\n",
       "    <tr>\n",
       "      <th>1</th>\n",
       "      <td>204</td>\n",
       "      <td>2018-12-01 00:00:05.5330</td>\n",
       "      <td>2018-12-01 00:03:30.5230</td>\n",
       "      <td>3504.0</td>\n",
       "      <td>E 123 St &amp; Lexington Ave</td>\n",
       "      <td>40.802926</td>\n",
       "      <td>-73.937900</td>\n",
       "      <td>3490.0</td>\n",
       "      <td>E 116 St &amp; 2 Ave</td>\n",
       "      <td>40.796879</td>\n",
       "      <td>-73.937261</td>\n",
       "      <td>20501</td>\n",
       "      <td>Subscriber</td>\n",
       "      <td>1966</td>\n",
       "      <td>1</td>\n",
       "    </tr>\n",
       "    <tr>\n",
       "      <th>2</th>\n",
       "      <td>316</td>\n",
       "      <td>2018-12-01 00:00:10.2330</td>\n",
       "      <td>2018-12-01 00:05:27.2030</td>\n",
       "      <td>270.0</td>\n",
       "      <td>Adelphi St &amp; Myrtle Ave</td>\n",
       "      <td>40.693083</td>\n",
       "      <td>-73.971789</td>\n",
       "      <td>243.0</td>\n",
       "      <td>Fulton St &amp; Rockwell Pl</td>\n",
       "      <td>40.688226</td>\n",
       "      <td>-73.979382</td>\n",
       "      <td>18386</td>\n",
       "      <td>Subscriber</td>\n",
       "      <td>1984</td>\n",
       "      <td>1</td>\n",
       "    </tr>\n",
       "    <tr>\n",
       "      <th>3</th>\n",
       "      <td>726</td>\n",
       "      <td>2018-12-01 00:00:21.9570</td>\n",
       "      <td>2018-12-01 00:12:28.1830</td>\n",
       "      <td>495.0</td>\n",
       "      <td>W 47 St &amp; 10 Ave</td>\n",
       "      <td>40.762699</td>\n",
       "      <td>-73.993012</td>\n",
       "      <td>3660.0</td>\n",
       "      <td>W 16 St &amp; 8 Ave</td>\n",
       "      <td>40.741022</td>\n",
       "      <td>-74.001385</td>\n",
       "      <td>27616</td>\n",
       "      <td>Subscriber</td>\n",
       "      <td>1983</td>\n",
       "      <td>1</td>\n",
       "    </tr>\n",
       "  </tbody>\n",
       "</table>\n",
       "</div>"
      ],
      "text/plain": [
       "   tripduration                 starttime                  stoptime  \\\n",
       "0           689  2018-12-01 00:00:04.3020  2018-12-01 00:11:33.8460   \n",
       "1           204  2018-12-01 00:00:05.5330  2018-12-01 00:03:30.5230   \n",
       "2           316  2018-12-01 00:00:10.2330  2018-12-01 00:05:27.2030   \n",
       "3           726  2018-12-01 00:00:21.9570  2018-12-01 00:12:28.1830   \n",
       "\n",
       "   start station id        start station name  start station latitude  \\\n",
       "0            3359.0     E 68 St & Madison Ave               40.769157   \n",
       "1            3504.0  E 123 St & Lexington Ave               40.802926   \n",
       "2             270.0   Adelphi St & Myrtle Ave               40.693083   \n",
       "3             495.0          W 47 St & 10 Ave               40.762699   \n",
       "\n",
       "   start station longitude  end station id         end station name  \\\n",
       "0               -73.967035           164.0          E 47 St & 2 Ave   \n",
       "1               -73.937900          3490.0         E 116 St & 2 Ave   \n",
       "2               -73.971789           243.0  Fulton St & Rockwell Pl   \n",
       "3               -73.993012          3660.0          W 16 St & 8 Ave   \n",
       "\n",
       "   end station latitude  end station longitude  bikeid    usertype  \\\n",
       "0             40.753231             -73.970325   35033  Subscriber   \n",
       "1             40.796879             -73.937261   20501  Subscriber   \n",
       "2             40.688226             -73.979382   18386  Subscriber   \n",
       "3             40.741022             -74.001385   27616  Subscriber   \n",
       "\n",
       "   birth year  gender  \n",
       "0        1989       1  \n",
       "1        1966       1  \n",
       "2        1984       1  \n",
       "3        1983       1  "
      ]
     },
     "execution_count": 6,
     "metadata": {},
     "output_type": "execute_result"
    }
   ],
   "source": [
    "trip_data.head(4)"
   ]
  },
  {
   "cell_type": "code",
   "execution_count": 7,
   "metadata": {},
   "outputs": [],
   "source": [
    "with open('../data/citibike/dock_dict_hist.pickle', 'rb') as f:\n",
    "    dock_dict = pickle.load(f)\n",
    "with open('../data/citibike/dock_dict_station.pickle', 'rb') as f:\n",
    "    dock_dict = {**dock_dict, **pickle.load(f)}\n",
    "dock_dict.update(dict(zip([3666, 3669, 3441, 3432, 3040, 3719, 3688, 3245], [4101, 4005, 3807, 4005, 4005, 4004, 3808, ])))"
   ]
  },
  {
   "cell_type": "code",
   "execution_count": 8,
   "metadata": {},
   "outputs": [],
   "source": [
    "# Convert times to datetimes.\n",
    "trip_data['starttime'] = pd.to_datetime(trip_data['starttime'])\n",
    "trip_data['stoptime']  = pd.to_datetime(trip_data['stoptime'])"
   ]
  },
  {
   "cell_type": "code",
   "execution_count": 9,
   "metadata": {},
   "outputs": [],
   "source": [
    "trip_data = trip_data.rename(columns={'start station id': 'startid', 'end station id': 'stopid'}) # Rename columns for convenience.\n",
    "trip_data = trip_data.dropna(subset={'startid', 'starttime', 'stopid', 'stoptime'})               # Drop rows with important nans.\n",
    "trip_data.startid = trip_data.startid.astype(int)\n",
    "trip_data.stopid = trip_data.stopid.astype(int)"
   ]
  },
  {
   "cell_type": "code",
   "execution_count": 10,
   "metadata": {},
   "outputs": [],
   "source": [
    "trip_data.loc[:, 'start_puma'] = trip_data.startid.map(dock_dict)\n",
    "trip_data.loc[:, 'stop_puma'] = trip_data.stopid.map(dock_dict)"
   ]
  },
  {
   "cell_type": "code",
   "execution_count": 13,
   "metadata": {},
   "outputs": [],
   "source": [
    "inds = trip_data.start_puma == trip_data.stop_puma\n",
    "intra_puma = trip_data[inds]\n",
    "extra_puma = trip_data[~inds]"
   ]
  },
  {
   "cell_type": "code",
   "execution_count": 14,
   "metadata": {},
   "outputs": [
    {
     "data": {
      "text/plain": [
       "usertype\n",
       "Customer        83377\n",
       "Subscriber    1060499\n",
       "Name: usertype, dtype: int64"
      ]
     },
     "execution_count": 14,
     "metadata": {},
     "output_type": "execute_result"
    }
   ],
   "source": [
    "extra_puma.groupby('usertype')['usertype'].count()"
   ]
  },
  {
   "cell_type": "code",
   "execution_count": 15,
   "metadata": {},
   "outputs": [
    {
     "data": {
      "text/plain": [
       "usertype\n",
       "Customer        73211\n",
       "Subscriber    1059598\n",
       "Name: usertype, dtype: int64"
      ]
     },
     "execution_count": 15,
     "metadata": {},
     "output_type": "execute_result"
    }
   ],
   "source": [
    "intra_puma.groupby('usertype')['usertype'].count()"
   ]
  },
  {
   "cell_type": "markdown",
   "metadata": {},
   "source": [
    "<h2> Arrival data. </h2>"
   ]
  },
  {
   "cell_type": "markdown",
   "metadata": {},
   "source": [
    "<h2> Per Station. </h2>"
   ]
  },
  {
   "cell_type": "code",
   "execution_count": 16,
   "metadata": {},
   "outputs": [],
   "source": [
    "departures = extra_puma[['starttime', 'startid']]\n",
    "arrivals = extra_puma[['stoptime', 'stopid']]"
   ]
  },
  {
   "cell_type": "code",
   "execution_count": 17,
   "metadata": {},
   "outputs": [
    {
     "name": "stderr",
     "output_type": "stream",
     "text": [
      "/home/mark/anaconda3/envs/inapinch/lib/python3.6/site-packages/pandas/core/indexing.py:362: SettingWithCopyWarning: \n",
      "A value is trying to be set on a copy of a slice from a DataFrame.\n",
      "Try using .loc[row_indexer,col_indexer] = value instead\n",
      "\n",
      "See the caveats in the documentation: http://pandas.pydata.org/pandas-docs/stable/indexing.html#indexing-view-versus-copy\n",
      "  self.obj[key] = _infer_fill_value(value)\n",
      "/home/mark/anaconda3/envs/inapinch/lib/python3.6/site-packages/pandas/core/indexing.py:543: SettingWithCopyWarning: \n",
      "A value is trying to be set on a copy of a slice from a DataFrame.\n",
      "Try using .loc[row_indexer,col_indexer] = value instead\n",
      "\n",
      "See the caveats in the documentation: http://pandas.pydata.org/pandas-docs/stable/indexing.html#indexing-view-versus-copy\n",
      "  self.obj[item] = s\n"
     ]
    }
   ],
   "source": [
    "# Clean departure data.\n",
    "departures.loc[:, 'puma'] = departures.startid.map(dock_dict)\n",
    "departures.loc[:, 'dayofyear'] = departures.starttime.dt.dayofyear.copy()\n",
    "departures.loc[:, 'hour'] = departures.starttime.dt.hour.copy()\n",
    "departures.loc[:, 'dayofweek'] = departures.starttime.dt.dayofweek.copy()\n",
    "departures.loc[:, 'weekend'] = departures.starttime.dt.weekday.copy()//5\n",
    "departures.loc[:, 'outbound'] = -1"
   ]
  },
  {
   "cell_type": "code",
   "execution_count": 18,
   "metadata": {},
   "outputs": [],
   "source": [
    "# Clean arrival data.\n",
    "arrivals.loc[:, 'puma'] = arrivals.stopid.map(dock_dict)\n",
    "arrivals.loc[:, 'dayofyear'] = arrivals.stoptime.dt.dayofyear.copy()\n",
    "arrivals.loc[:, 'hour'] = arrivals.stoptime.dt.hour.copy()\n",
    "arrivals.loc[:, 'dayofweek'] = arrivals.stoptime.dt.dayofweek.copy()\n",
    "arrivals.loc[:, 'weekend'] = arrivals.stoptime.dt.weekday.copy()//5\n",
    "arrivals.loc[:, 'inbound'] = 1"
   ]
  },
  {
   "cell_type": "code",
   "execution_count": 19,
   "metadata": {},
   "outputs": [],
   "source": [
    "departures = departures.set_index('starttime')\n",
    "arrivals = arrivals.set_index('stoptime')"
   ]
  },
  {
   "cell_type": "code",
   "execution_count": 20,
   "metadata": {},
   "outputs": [],
   "source": [
    "departures = departures.groupby(['startid', 'weekend', 'hour']).outbound.sum().reset_index()\n",
    "arrivals = arrivals.groupby(['stopid', 'weekend', 'hour']).inbound.sum().reset_index()"
   ]
  },
  {
   "cell_type": "code",
   "execution_count": 21,
   "metadata": {},
   "outputs": [],
   "source": [
    "# Correct for oversampling.\n",
    "inds = departures.weekend == 0\n",
    "departures.loc[inds, 'outbound'] /= 5\n",
    "departures.loc[~inds, 'outbound'] /= 2\n",
    "\n",
    "inds = arrivals.weekend == 0\n",
    "arrivals.loc[inds, 'inbound'] /= 5\n",
    "arrivals.loc[~inds, 'inbound'] /= 2"
   ]
  },
  {
   "cell_type": "code",
   "execution_count": 22,
   "metadata": {},
   "outputs": [],
   "source": [
    "# Expand to include all hours.\n",
    "departures = departures.groupby(['startid', 'weekend'])['hour', 'outbound'].apply(lambda x: x.set_index('hour').reindex(range(0, 24))).reset_index()\n",
    "departures = departures.interpolate()\n",
    "\n",
    "arrivals = arrivals.groupby(['stopid', 'weekend'])['hour', 'inbound'].apply(lambda x: x.set_index('hour').reindex(range(0, 24))).reset_index()\n",
    "arrivals = arrivals.interpolate()"
   ]
  },
  {
   "cell_type": "code",
   "execution_count": 76,
   "metadata": {},
   "outputs": [
    {
     "data": {
      "text/html": [
       "<div>\n",
       "<style scoped>\n",
       "    .dataframe tbody tr th:only-of-type {\n",
       "        vertical-align: middle;\n",
       "    }\n",
       "\n",
       "    .dataframe tbody tr th {\n",
       "        vertical-align: top;\n",
       "    }\n",
       "\n",
       "    .dataframe thead th {\n",
       "        text-align: right;\n",
       "    }\n",
       "</style>\n",
       "<table border=\"1\" class=\"dataframe\">\n",
       "  <thead>\n",
       "    <tr style=\"text-align: right;\">\n",
       "      <th></th>\n",
       "      <th>startid</th>\n",
       "      <th>weekend</th>\n",
       "      <th>hour</th>\n",
       "      <th>outbound</th>\n",
       "      <th>stopid</th>\n",
       "      <th>inbound</th>\n",
       "      <th>flux</th>\n",
       "    </tr>\n",
       "  </thead>\n",
       "  <tbody>\n",
       "    <tr>\n",
       "      <th>0</th>\n",
       "      <td>72</td>\n",
       "      <td>0</td>\n",
       "      <td>0</td>\n",
       "      <td>-1.8</td>\n",
       "      <td>72</td>\n",
       "      <td>1.2</td>\n",
       "      <td>-0.6</td>\n",
       "    </tr>\n",
       "    <tr>\n",
       "      <th>1</th>\n",
       "      <td>72</td>\n",
       "      <td>0</td>\n",
       "      <td>1</td>\n",
       "      <td>-0.8</td>\n",
       "      <td>72</td>\n",
       "      <td>0.6</td>\n",
       "      <td>-0.2</td>\n",
       "    </tr>\n",
       "    <tr>\n",
       "      <th>2</th>\n",
       "      <td>72</td>\n",
       "      <td>0</td>\n",
       "      <td>2</td>\n",
       "      <td>-0.2</td>\n",
       "      <td>72</td>\n",
       "      <td>0.5</td>\n",
       "      <td>0.3</td>\n",
       "    </tr>\n",
       "    <tr>\n",
       "      <th>3</th>\n",
       "      <td>72</td>\n",
       "      <td>0</td>\n",
       "      <td>3</td>\n",
       "      <td>-0.2</td>\n",
       "      <td>72</td>\n",
       "      <td>0.4</td>\n",
       "      <td>0.2</td>\n",
       "    </tr>\n",
       "  </tbody>\n",
       "</table>\n",
       "</div>"
      ],
      "text/plain": [
       "   startid  weekend  hour  outbound  stopid  inbound  flux\n",
       "0       72        0     0      -1.8      72      1.2  -0.6\n",
       "1       72        0     1      -0.8      72      0.6  -0.2\n",
       "2       72        0     2      -0.2      72      0.5   0.3\n",
       "3       72        0     3      -0.2      72      0.4   0.2"
      ]
     },
     "execution_count": 76,
     "metadata": {},
     "output_type": "execute_result"
    }
   ],
   "source": [
    "# With the arrivals and departures, compute the activity at each station.\n",
    "activity = pd.merge(departures, arrivals, how='left', left_on=['startid', 'weekend', 'hour'], right_on=['stopid', 'weekend', 'hour'])\n",
    "activity.loc[:, 'flux'] = activity.inbound + activity.outbound\n",
    "activity.head(4)"
   ]
  },
  {
   "cell_type": "code",
   "execution_count": 77,
   "metadata": {},
   "outputs": [],
   "source": [
    "assert((activity.startid == activity.stopid).all()) # Check that start and stop id's match."
   ]
  },
  {
   "cell_type": "markdown",
   "metadata": {},
   "source": [
    "<h2> Per Puma. </h2>"
   ]
  },
  {
   "cell_type": "code",
   "execution_count": 59,
   "metadata": {},
   "outputs": [
    {
     "name": "stderr",
     "output_type": "stream",
     "text": [
      "/home/mark/anaconda3/envs/inapinch/lib/python3.6/site-packages/pandas/core/indexing.py:362: SettingWithCopyWarning: \n",
      "A value is trying to be set on a copy of a slice from a DataFrame.\n",
      "Try using .loc[row_indexer,col_indexer] = value instead\n",
      "\n",
      "See the caveats in the documentation: http://pandas.pydata.org/pandas-docs/stable/indexing.html#indexing-view-versus-copy\n",
      "  self.obj[key] = _infer_fill_value(value)\n",
      "/home/mark/anaconda3/envs/inapinch/lib/python3.6/site-packages/pandas/core/indexing.py:543: SettingWithCopyWarning: \n",
      "A value is trying to be set on a copy of a slice from a DataFrame.\n",
      "Try using .loc[row_indexer,col_indexer] = value instead\n",
      "\n",
      "See the caveats in the documentation: http://pandas.pydata.org/pandas-docs/stable/indexing.html#indexing-view-versus-copy\n",
      "  self.obj[item] = s\n"
     ]
    },
    {
     "data": {
      "text/html": [
       "<div>\n",
       "<style scoped>\n",
       "    .dataframe tbody tr th:only-of-type {\n",
       "        vertical-align: middle;\n",
       "    }\n",
       "\n",
       "    .dataframe tbody tr th {\n",
       "        vertical-align: top;\n",
       "    }\n",
       "\n",
       "    .dataframe thead th {\n",
       "        text-align: right;\n",
       "    }\n",
       "</style>\n",
       "<table border=\"1\" class=\"dataframe\">\n",
       "  <thead>\n",
       "    <tr style=\"text-align: right;\">\n",
       "      <th></th>\n",
       "      <th>puma</th>\n",
       "      <th>weekend</th>\n",
       "      <th>hour</th>\n",
       "      <th>flux</th>\n",
       "    </tr>\n",
       "  </thead>\n",
       "  <tbody>\n",
       "    <tr>\n",
       "      <th>0</th>\n",
       "      <td>3802</td>\n",
       "      <td>0</td>\n",
       "      <td>0</td>\n",
       "      <td>-1.650000</td>\n",
       "    </tr>\n",
       "    <tr>\n",
       "      <th>1</th>\n",
       "      <td>3802</td>\n",
       "      <td>0</td>\n",
       "      <td>1</td>\n",
       "      <td>1.233333</td>\n",
       "    </tr>\n",
       "    <tr>\n",
       "      <th>2</th>\n",
       "      <td>3802</td>\n",
       "      <td>0</td>\n",
       "      <td>2</td>\n",
       "      <td>1.066667</td>\n",
       "    </tr>\n",
       "    <tr>\n",
       "      <th>3</th>\n",
       "      <td>3802</td>\n",
       "      <td>0</td>\n",
       "      <td>3</td>\n",
       "      <td>-1.700000</td>\n",
       "    </tr>\n",
       "  </tbody>\n",
       "</table>\n",
       "</div>"
      ],
      "text/plain": [
       "   puma  weekend  hour      flux\n",
       "0  3802        0     0 -1.650000\n",
       "1  3802        0     1  1.233333\n",
       "2  3802        0     2  1.066667\n",
       "3  3802        0     3 -1.700000"
      ]
     },
     "execution_count": 59,
     "metadata": {},
     "output_type": "execute_result"
    }
   ],
   "source": [
    "puma_flux = activity[['startid', 'weekend', 'hour', 'flux']]\n",
    "puma_flux.loc[:, 'puma'] = puma_flux.startid.map(dock_dict)\n",
    "puma_flux = puma_flux.drop(columns='startid')\n",
    "puma_flux = puma_flux.groupby(['puma', 'weekend', 'hour'])['flux'].sum().reset_index()\n",
    "puma_flux.head(4)"
   ]
  },
  {
   "cell_type": "markdown",
   "metadata": {},
   "source": [
    "<h2> Final activity df. </h2>"
   ]
  },
  {
   "cell_type": "code",
   "execution_count": 78,
   "metadata": {},
   "outputs": [],
   "source": [
    "activity = activity.rename(columns={'startid':'station_id'})\n",
    "activity = activity.drop(columns='stopid')\n",
    "activity.loc[:, 'puma'] = activity.station_id.map(dock_dict)"
   ]
  },
  {
   "cell_type": "code",
   "execution_count": 79,
   "metadata": {},
   "outputs": [
    {
     "data": {
      "text/html": [
       "<div>\n",
       "<style scoped>\n",
       "    .dataframe tbody tr th:only-of-type {\n",
       "        vertical-align: middle;\n",
       "    }\n",
       "\n",
       "    .dataframe tbody tr th {\n",
       "        vertical-align: top;\n",
       "    }\n",
       "\n",
       "    .dataframe thead th {\n",
       "        text-align: right;\n",
       "    }\n",
       "</style>\n",
       "<table border=\"1\" class=\"dataframe\">\n",
       "  <thead>\n",
       "    <tr style=\"text-align: right;\">\n",
       "      <th></th>\n",
       "      <th>station_id</th>\n",
       "      <th>weekend</th>\n",
       "      <th>hour</th>\n",
       "      <th>outbound</th>\n",
       "      <th>inbound</th>\n",
       "      <th>flux</th>\n",
       "      <th>puma</th>\n",
       "    </tr>\n",
       "  </thead>\n",
       "  <tbody>\n",
       "    <tr>\n",
       "      <th>0</th>\n",
       "      <td>72</td>\n",
       "      <td>0</td>\n",
       "      <td>0</td>\n",
       "      <td>-1.8</td>\n",
       "      <td>1.2</td>\n",
       "      <td>-0.6</td>\n",
       "      <td>3807</td>\n",
       "    </tr>\n",
       "    <tr>\n",
       "      <th>1</th>\n",
       "      <td>72</td>\n",
       "      <td>0</td>\n",
       "      <td>1</td>\n",
       "      <td>-0.8</td>\n",
       "      <td>0.6</td>\n",
       "      <td>-0.2</td>\n",
       "      <td>3807</td>\n",
       "    </tr>\n",
       "    <tr>\n",
       "      <th>2</th>\n",
       "      <td>72</td>\n",
       "      <td>0</td>\n",
       "      <td>2</td>\n",
       "      <td>-0.2</td>\n",
       "      <td>0.5</td>\n",
       "      <td>0.3</td>\n",
       "      <td>3807</td>\n",
       "    </tr>\n",
       "    <tr>\n",
       "      <th>3</th>\n",
       "      <td>72</td>\n",
       "      <td>0</td>\n",
       "      <td>3</td>\n",
       "      <td>-0.2</td>\n",
       "      <td>0.4</td>\n",
       "      <td>0.2</td>\n",
       "      <td>3807</td>\n",
       "    </tr>\n",
       "  </tbody>\n",
       "</table>\n",
       "</div>"
      ],
      "text/plain": [
       "   station_id  weekend  hour  outbound  inbound  flux  puma\n",
       "0          72        0     0      -1.8      1.2  -0.6  3807\n",
       "1          72        0     1      -0.8      0.6  -0.2  3807\n",
       "2          72        0     2      -0.2      0.5   0.3  3807\n",
       "3          72        0     3      -0.2      0.4   0.2  3807"
      ]
     },
     "execution_count": 79,
     "metadata": {},
     "output_type": "execute_result"
    }
   ],
   "source": [
    "activity.head(4)"
   ]
  },
  {
   "cell_type": "code",
   "execution_count": 84,
   "metadata": {},
   "outputs": [],
   "source": [
    "df = activity.set_index(['weekend', 'hour', 'puma']).join(puma_flux.set_index(['weekend', 'hour', 'puma']), how='left', rsuffix='_puma').reset_index()"
   ]
  },
  {
   "cell_type": "code",
   "execution_count": 85,
   "metadata": {},
   "outputs": [
    {
     "data": {
      "text/html": [
       "<div>\n",
       "<style scoped>\n",
       "    .dataframe tbody tr th:only-of-type {\n",
       "        vertical-align: middle;\n",
       "    }\n",
       "\n",
       "    .dataframe tbody tr th {\n",
       "        vertical-align: top;\n",
       "    }\n",
       "\n",
       "    .dataframe thead th {\n",
       "        text-align: right;\n",
       "    }\n",
       "</style>\n",
       "<table border=\"1\" class=\"dataframe\">\n",
       "  <thead>\n",
       "    <tr style=\"text-align: right;\">\n",
       "      <th></th>\n",
       "      <th>weekend</th>\n",
       "      <th>hour</th>\n",
       "      <th>puma</th>\n",
       "      <th>station_id</th>\n",
       "      <th>outbound</th>\n",
       "      <th>inbound</th>\n",
       "      <th>flux</th>\n",
       "      <th>flux_puma</th>\n",
       "    </tr>\n",
       "  </thead>\n",
       "  <tbody>\n",
       "    <tr>\n",
       "      <th>0</th>\n",
       "      <td>0</td>\n",
       "      <td>0</td>\n",
       "      <td>3802</td>\n",
       "      <td>3343</td>\n",
       "      <td>-0.6</td>\n",
       "      <td>2.2</td>\n",
       "      <td>1.6</td>\n",
       "      <td>-1.65</td>\n",
       "    </tr>\n",
       "    <tr>\n",
       "      <th>1</th>\n",
       "      <td>0</td>\n",
       "      <td>0</td>\n",
       "      <td>3802</td>\n",
       "      <td>3357</td>\n",
       "      <td>-0.6</td>\n",
       "      <td>0.2</td>\n",
       "      <td>-0.4</td>\n",
       "      <td>-1.65</td>\n",
       "    </tr>\n",
       "    <tr>\n",
       "      <th>2</th>\n",
       "      <td>0</td>\n",
       "      <td>0</td>\n",
       "      <td>3802</td>\n",
       "      <td>3366</td>\n",
       "      <td>-2.4</td>\n",
       "      <td>1.6</td>\n",
       "      <td>-0.8</td>\n",
       "      <td>-1.65</td>\n",
       "    </tr>\n",
       "    <tr>\n",
       "      <th>3</th>\n",
       "      <td>0</td>\n",
       "      <td>0</td>\n",
       "      <td>3802</td>\n",
       "      <td>3383</td>\n",
       "      <td>-3.0</td>\n",
       "      <td>5.0</td>\n",
       "      <td>2.0</td>\n",
       "      <td>-1.65</td>\n",
       "    </tr>\n",
       "  </tbody>\n",
       "</table>\n",
       "</div>"
      ],
      "text/plain": [
       "   weekend  hour  puma  station_id  outbound  inbound  flux  flux_puma\n",
       "0        0     0  3802        3343      -0.6      2.2   1.6      -1.65\n",
       "1        0     0  3802        3357      -0.6      0.2  -0.4      -1.65\n",
       "2        0     0  3802        3366      -2.4      1.6  -0.8      -1.65\n",
       "3        0     0  3802        3383      -3.0      5.0   2.0      -1.65"
      ]
     },
     "execution_count": 85,
     "metadata": {},
     "output_type": "execute_result"
    }
   ],
   "source": [
    "df.head(4)"
   ]
  },
  {
   "cell_type": "code",
   "execution_count": 109,
   "metadata": {},
   "outputs": [],
   "source": [
    "# max of total number of stations at a puma and 10.\n",
    "rule = df[['puma', 'station_id']].drop_duplicates().groupby('puma')['station_id'].count().apply(lambda x: max(x, 10))\n",
    "rule_dict = dict(zip(rule.index.values, rule.values))"
   ]
  },
  {
   "cell_type": "code",
   "execution_count": 104,
   "metadata": {},
   "outputs": [],
   "source": [
    "df.loc[:, 'share'] = (df.inbound + df.outbound)/df.flux_puma"
   ]
  },
  {
   "cell_type": "code",
   "execution_count": 118,
   "metadata": {},
   "outputs": [],
   "source": [
    "inds = df.flux_puma.abs() < df.puma.map(rule_dict)\n",
    "df.loc[inds, 'share'] = 1./df.loc[inds, 'puma'].map(rule_dict)"
   ]
  },
  {
   "cell_type": "code",
   "execution_count": 129,
   "metadata": {},
   "outputs": [],
   "source": [
    "df = df.set_index(['station_id', 'weekend', 'hour'])"
   ]
  },
  {
   "cell_type": "code",
   "execution_count": 130,
   "metadata": {},
   "outputs": [],
   "source": [
    "df.to_csv('activity.csv')"
   ]
  },
  {
   "cell_type": "code",
   "execution_count": null,
   "metadata": {},
   "outputs": [],
   "source": []
  }
 ],
 "metadata": {
  "kernelspec": {
   "display_name": "Python 3",
   "language": "python",
   "name": "python3"
  },
  "language_info": {
   "codemirror_mode": {
    "name": "ipython",
    "version": 3
   },
   "file_extension": ".py",
   "mimetype": "text/x-python",
   "name": "python",
   "nbconvert_exporter": "python",
   "pygments_lexer": "ipython3",
   "version": "3.6.6"
  }
 },
 "nbformat": 4,
 "nbformat_minor": 2
}
