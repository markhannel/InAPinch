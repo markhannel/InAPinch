{
 "cells": [
  {
   "cell_type": "markdown",
   "metadata": {},
   "source": [
    "<h1> Exploring Citi Bike / Dock Availability. </h1>"
   ]
  },
  {
   "cell_type": "code",
   "execution_count": 1,
   "metadata": {},
   "outputs": [],
   "source": [
    "import numpy as np\n",
    "import pandas as pd\n",
    "import pylab as pl"
   ]
  },
  {
   "cell_type": "code",
   "execution_count": 2,
   "metadata": {},
   "outputs": [],
   "source": [
    "# Plot preferences.\n",
    "pl.rcParams.update({'font.size':22})"
   ]
  },
  {
   "cell_type": "code",
   "execution_count": 31,
   "metadata": {},
   "outputs": [
    {
     "name": "stderr",
     "output_type": "stream",
     "text": [
      "/home/mark/anaconda3/envs/inapinch/lib/python3.6/site-packages/numpy/lib/arraysetops.py:522: FutureWarning: elementwise comparison failed; returning scalar instead, but in the future will perform elementwise comparison\n",
      "  mask |= (ar1 == a)\n"
     ]
    }
   ],
   "source": [
    "# Load Historical data.\n",
    "df = pd.read_csv('../data/citibike/dock_historical/historical_data.csv', index_col=0)"
   ]
  },
  {
   "cell_type": "code",
   "execution_count": 49,
   "metadata": {},
   "outputs": [],
   "source": [
    "df.time = pd.to_datetime(df.time)"
   ]
  },
  {
   "cell_type": "code",
   "execution_count": 60,
   "metadata": {},
   "outputs": [
    {
     "data": {
      "text/plain": [
       "array([  72,   79,   82,   83,  116,  119,  120,  127,  128,  137,  143,\n",
       "        144,  146,  147,  150,  151,  152,  153,  157,  161,  164,  167,\n",
       "        168,  173,  174,  195,  212,  216,  217,  223,  224,  225,  228,\n",
       "        229,  232,  236,  237,  238,  239,  241,  242,  243,  244,  245,\n",
       "        247,  248,  249,  251,  252,  253,  254,  257,  258,  259,  260,\n",
       "        261,  262,  264,  265,  266,  267,  268,  270,  274,  275,  276,\n",
       "        278,  279,  280,  281,  282,  284,  285,  289,  291,  293,  295,\n",
       "        296,  297,  298,  301,  302,  303,  304,  305,  306,  307,  308,\n",
       "        309,  310,  311,  312,  313,  315,  316,  317,  319,  320,  321,\n",
       "        322,  323,  324,  325,  326,  327,  328,  330,  331,  332,  334,\n",
       "        335,  336,  337,  339,  340,  341,  342,  343,  344,  345,  346,\n",
       "        347,  348,  349,  350,  351,  352,  353,  354,  355,  356,  357,\n",
       "        358,  359,  360,  361,  362,  363,  364,  365,  366,  367,  368,\n",
       "        369,  372,  373,  376,  377,  379,  380,  382,  383,  384,  385,\n",
       "        386,  387,  388,  389,  390,  391,  392,  393,  394,  395,  396,\n",
       "        397,  398,  399,  400,  401,  402,  405,  406,  407,  408,  409,\n",
       "        410,  411,  412,  414,  415,  416,  417,  418,  419,  420,  421,\n",
       "        422,  423,  426,  427,  428,  430,  432,  433,  434,  435,  436,\n",
       "        437,  438,  439,  440,  441,  442,  443,  444,  445,  446,  447,\n",
       "        448,  449,  450,  453,  454,  455,  456,  457,  458,  459,  460,\n",
       "        461,  462,  465,  466,  467,  468,  469,  470,  471,  472,  473,\n",
       "        474,  475,  476,  477,  478,  479,  480,  481,  482,  483,  484,\n",
       "        485,  486,  487,  488,  490,  491,  492,  493,  494,  495,  496,\n",
       "        497,  498,  499,  500,  501,  502,  503,  504,  505,  507,  508,\n",
       "        509,  510,  511,  513,  514,  515,  516,  517,  518,  519,  520,\n",
       "        522,  523,  524,  525,  526,  527,  528,  529,  530,  531,  532,\n",
       "        533,  534,  536,  537,  539,  540,  545,  546, 2000, 2001, 2002,\n",
       "       2003, 2004, 2005, 2006, 2008, 2009, 2010, 2012, 2017, 2021, 2022,\n",
       "       2023, 3002, 3016, 3041, 3042, 3043, 3044, 3046, 3047, 3048, 3049,\n",
       "       3050, 3052, 3053, 3054, 3055, 3056, 3057, 3058, 3059, 3060, 3061,\n",
       "       3062, 3063, 3064, 3065, 3066, 3067, 3068, 3069, 3070, 3071, 3072,\n",
       "       3073, 3074, 3075, 3076, 3077, 3078, 3079, 3080, 3081, 3082, 3083,\n",
       "       3084, 3085, 3086, 3087, 3088, 3089, 3090, 3091, 3092, 3093, 3094,\n",
       "       3095, 3096, 3098, 3099, 3100, 3101, 3102, 3103, 3105, 3106, 3107,\n",
       "       3108, 3109, 3110, 3111, 3112, 3113, 3114, 3115, 3116, 3117, 3118,\n",
       "       3119, 3120, 3121, 3122, 3123, 3124, 3125, 3126, 3127, 3128, 3129,\n",
       "       3131, 3132, 3134, 3135, 3136, 3137, 3139, 3140, 3141, 3142, 3143,\n",
       "       3144, 3145, 3146, 3147, 3148, 3150, 3151, 3152, 3153, 3155, 3156,\n",
       "       3157, 3158, 3159, 3160, 3161, 3162, 3163, 3164, 3165, 3166, 3167,\n",
       "       3168, 3169, 3170, 3171, 3172, 3173, 3175, 3176, 3177, 3178, 3179,\n",
       "       3180, 3183, 3184, 3185, 3186, 3187, 3188, 3189, 3190, 3191, 3192,\n",
       "       3193, 3194, 3195, 3196, 3197, 3198, 3199, 3200, 3201, 3202, 3203,\n",
       "       3205, 3206, 3207, 3209, 3210, 3211, 3212, 3213, 3214, 3215, 3216,\n",
       "       3217, 3220, 3221, 3223, 3224, 3225, 3226, 3230, 3231, 3232, 3233,\n",
       "       3235, 3236, 3237, 3238, 3241, 3242, 3243, 3244, 3246, 3249, 3255,\n",
       "       3256, 3258, 3259, 3260, 3263, 3264, 3265, 3267, 3268, 3269, 3270,\n",
       "       3271, 3272, 3273, 3274, 3275, 3276, 3277, 3278, 3279, 3280, 3281,\n",
       "       3282, 3283, 3284, 3285, 3286, 3288, 3289, 3290, 3292, 3293, 3294,\n",
       "       3295, 3296, 3297, 3298, 3299, 3300, 3301, 3302, 3303, 3304, 3305,\n",
       "       3306, 3307, 3308, 3309, 3310, 3311, 3312, 3313, 3314, 3315, 3316,\n",
       "       3317, 3318, 3319, 3320, 3321, 3322, 3323, 3324, 3325, 3326, 3327,\n",
       "       3328, 3329, 3330, 3331, 3332, 3333, 3335, 3336, 3337, 3338, 3339,\n",
       "       3340, 3341, 3342, 3343, 3344, 3345, 3346, 3347, 3348, 3349, 3350,\n",
       "       3351, 3352, 3353, 3354, 3355, 3356, 3357, 3358, 3359, 3360, 3361,\n",
       "       3362, 3363, 3364, 3365, 3366, 3367, 3368, 3369, 3370, 3371, 3372,\n",
       "       3373, 3374, 3375, 3376, 3377, 3378, 3379, 3381, 3382, 3383, 3384,\n",
       "       3386, 3387, 3388, 3389, 3390, 3391, 3392, 3393, 3394, 3395, 3396,\n",
       "       3397, 3398, 3399, 3400, 3401, 3402, 3403, 3404, 3405, 3407, 3408,\n",
       "       3409, 3410, 3411, 3412, 3413, 3414, 3415, 3416, 3417, 3418, 3419,\n",
       "       3420, 3421, 3422, 3423, 3424, 3425, 3427, 3428, 3429, 3430, 3431,\n",
       "       3434, 3435, 3436, 3437, 3438, 3440, 3443, 3130, 3445, 3447, 3452,\n",
       "       3453,  314,  403, 3449, 3454, 3455, 3456, 3182, 3254, 3457, 3459,\n",
       "       3462, 3463, 3253, 3458, 3461, 3257, 3464, 3466, 3469, 3472, 3474,\n",
       "       3467, 3476, 3477, 3478, 3479, 3480, 3481, 3486, 3489, 3490, 3491,\n",
       "       3492, 3493, 3494, 3495, 3496, 3497, 3498, 3499, 3500, 3501, 3502,\n",
       "       3503, 3483, 3504, 3505, 3506, 3507, 3508, 3509, 3510, 3511, 3512,\n",
       "       3513, 3514, 3515, 3516, 3517, 3518, 3519])"
      ]
     },
     "execution_count": 60,
     "metadata": {},
     "output_type": "execute_result"
    }
   ],
   "source": [
    "df.dock_id.unique()"
   ]
  },
  {
   "cell_type": "code",
   "execution_count": 102,
   "metadata": {},
   "outputs": [
    {
     "name": "stderr",
     "output_type": "stream",
     "text": [
      "/home/mark/anaconda3/envs/inapinch/lib/python3.6/site-packages/ipykernel_launcher.py:2: SettingWithCopyWarning: \n",
      "A value is trying to be set on a copy of a slice from a DataFrame.\n",
      "Try using .loc[row_indexer,col_indexer] = value instead\n",
      "\n",
      "See the caveats in the documentation: http://pandas.pydata.org/pandas-docs/stable/indexing.html#indexing-view-versus-copy\n",
      "  \n"
     ]
    },
    {
     "data": {
      "image/png": "[encoded data removed]",
      "text/plain": [
       "<Figure size 432x288 with 1 Axes>"
      ]
     },
     "metadata": {
      "needs_background": "light"
     },
     "output_type": "display_data"
    }
   ],
   "source": [
    "temp = df.query('dock_id == 314 and time.dt.weekday == 1')\n",
    "temp['hour'] = temp.time.dt.hour\n",
    "temp.hour.hist();"
   ]
  },
  {
   "cell_type": "code",
   "execution_count": 107,
   "metadata": {},
   "outputs": [
    {
     "data": {
      "text/plain": [
       "5.817073170731708"
      ]
     },
     "execution_count": 107,
     "metadata": {},
     "output_type": "execute_result"
    }
   ],
   "source": [
    "temp.query('hour == 12')['avail_bikes'].mean()"
   ]
  },
  {
   "cell_type": "code",
   "execution_count": 99,
   "metadata": {},
   "outputs": [
    {
     "data": {
      "text/plain": [
       "<matplotlib.axes._subplots.AxesSubplot at 0x7fbfd15bcda0>"
      ]
     },
     "execution_count": 99,
     "metadata": {},
     "output_type": "execute_result"
    },
    {
     "data": {
      "image/png": "[encoded data removed]",
      "text/plain": [
       "<Figure size 432x288 with 1 Axes>"
      ]
     },
     "metadata": {
      "needs_background": "light"
     },
     "output_type": "display_data"
    }
   ],
   "source": [
    "temp.hour.hist()"
   ]
  },
  {
   "cell_type": "code",
   "execution_count": 108,
   "metadata": {},
   "outputs": [
    {
     "data": {
      "text/plain": [
       "<matplotlib.axes._subplots.AxesSubplot at 0x7fbfd1344320>"
      ]
     },
     "execution_count": 108,
     "metadata": {},
     "output_type": "execute_result"
    },
    {
     "data": {
      "image/png": "[encoded data removed]",
      "text/plain": [
       "<Figure size 432x288 with 1 Axes>"
      ]
     },
     "metadata": {
      "needs_background": "light"
     },
     "output_type": "display_data"
    }
   ],
   "source": [
    "temp.groupby('hour')['avail_bikes'].mean().plot()"
   ]
  },
  {
   "cell_type": "code",
   "execution_count": 94,
   "metadata": {},
   "outputs": [
    {
     "data": {
      "text/plain": [
       "array([ 1,  2,  4,  5,  6,  8,  9, 10, 11, 12, 13, 14, 15, 16, 18, 19, 20,\n",
       "       21, 23,  0,  7, 17,  3, 22])"
      ]
     },
     "execution_count": 94,
     "metadata": {},
     "output_type": "execute_result"
    }
   ],
   "source": [
    "temp.hour.unique()"
   ]
  },
  {
   "cell_type": "code",
   "execution_count": 90,
   "metadata": {},
   "outputs": [
    {
     "data": {
      "text/plain": [
       "[<matplotlib.lines.Line2D at 0x7fbfd1a3f5c0>]"
      ]
     },
     "execution_count": 90,
     "metadata": {},
     "output_type": "execute_result"
    },
    {
     "data": {
      "image/png": "[encoded data removed]",
      "text/plain": [
       "<Figure size 576x576 with 1 Axes>"
      ]
     },
     "metadata": {
      "needs_background": "light"
     },
     "output_type": "display_data"
    }
   ],
   "source": [
    "fig, ax = pl.subplots(figsize=(8,8))\n",
    "ax.plot(temp.time.dt.hour, temp.avail_bikes, 'o')"
   ]
  },
  {
   "cell_type": "code",
   "execution_count": null,
   "metadata": {},
   "outputs": [],
   "source": []
  }
 ],
 "metadata": {
  "kernelspec": {
   "display_name": "Python 3",
   "language": "python",
   "name": "python3"
  },
  "language_info": {
   "codemirror_mode": {
    "name": "ipython",
    "version": 3
   },
   "file_extension": ".py",
   "mimetype": "text/x-python",
   "name": "python",
   "nbconvert_exporter": "python",
   "pygments_lexer": "ipython3",
   "version": "3.6.6"
  }
 },
 "nbformat": 4,
 "nbformat_minor": 2
}
