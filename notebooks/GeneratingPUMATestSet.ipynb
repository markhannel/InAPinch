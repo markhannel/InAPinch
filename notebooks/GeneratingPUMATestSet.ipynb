{
 "cells": [
  {
   "cell_type": "markdown",
   "metadata": {},
   "source": [
    "<h1> Generating a PUMA test set. </h1>"
   ]
  },
  {
   "cell_type": "code",
   "execution_count": 1,
   "metadata": {},
   "outputs": [],
   "source": [
    "import pandas as pd\n",
    "import pylab as pl"
   ]
  },
  {
   "cell_type": "code",
   "execution_count": 2,
   "metadata": {},
   "outputs": [],
   "source": [
    "pl.rcParams.update({'font.size':22,\n",
    "                     'figure.figsize':(12,6)})"
   ]
  },
  {
   "cell_type": "code",
   "execution_count": 3,
   "metadata": {},
   "outputs": [
    {
     "name": "stderr",
     "output_type": "stream",
     "text": [
      "/home/mark/anaconda3/envs/inapinch/lib/python3.6/site-packages/numpy/lib/arraysetops.py:522: FutureWarning: elementwise comparison failed; returning scalar instead, but in the future will perform elementwise comparison\n",
      "  mask |= (ar1 == a)\n"
     ]
    }
   ],
   "source": [
    "# Load data with puma index.\n",
    "historical = pd.read_csv('../data/citibike/dock_historical/historical_data_puma.csv', index_col=0)"
   ]
  },
  {
   "cell_type": "code",
   "execution_count": 4,
   "metadata": {},
   "outputs": [],
   "source": [
    "historical = historical.query('_long > -74.03') # Remove NJ.\n",
    "historical = historical.query('time >= \"2018-01\"') # Only consider 2018.\n",
    "historical.PUMA = historical.PUMA.astype(int)   # PUMA as an int.\n",
    "historical.time = pd.to_datetime(historical.time) # time as as pd.datetime obj."
   ]
  },
  {
   "cell_type": "markdown",
   "metadata": {},
   "source": [
    "<h2> Correcting time. </h2>"
   ]
  },
  {
   "cell_type": "code",
   "execution_count": 5,
   "metadata": {},
   "outputs": [
    {
     "data": {
      "text/plain": [
       "18"
      ]
     },
     "execution_count": 5,
     "metadata": {},
     "output_type": "execute_result"
    }
   ],
   "source": [
    "historical.PUMA.unique().shape[0]"
   ]
  },
  {
   "cell_type": "code",
   "execution_count": 6,
   "metadata": {},
   "outputs": [],
   "source": [
    "puma = historical.query('PUMA == 3810')"
   ]
  },
  {
   "cell_type": "code",
   "execution_count": 7,
   "metadata": {},
   "outputs": [],
   "source": [
    "tot_docks = puma.set_index('time').groupby('time')['tot_docks'].sum()"
   ]
  },
  {
   "cell_type": "code",
   "execution_count": 8,
   "metadata": {},
   "outputs": [
    {
     "data": {
      "text/plain": [
       "83"
      ]
     },
     "execution_count": 8,
     "metadata": {},
     "output_type": "execute_result"
    }
   ],
   "source": [
    "puma.dock_id.unique().shape[0]"
   ]
  },
  {
   "cell_type": "code",
   "execution_count": 9,
   "metadata": {},
   "outputs": [],
   "source": [
    "tot_stations = puma.set_index('time').groupby('time')['dock_id'].count()"
   ]
  },
  {
   "cell_type": "code",
   "execution_count": 10,
   "metadata": {},
   "outputs": [
    {
     "name": "stderr",
     "output_type": "stream",
     "text": [
      "/home/mark/anaconda3/envs/inapinch/lib/python3.6/site-packages/pandas/core/indexing.py:362: SettingWithCopyWarning: \n",
      "A value is trying to be set on a copy of a slice from a DataFrame.\n",
      "Try using .loc[row_indexer,col_indexer] = value instead\n",
      "\n",
      "See the caveats in the documentation: http://pandas.pydata.org/pandas-docs/stable/indexing.html#indexing-view-versus-copy\n",
      "  self.obj[key] = _infer_fill_value(value)\n",
      "/home/mark/anaconda3/envs/inapinch/lib/python3.6/site-packages/pandas/core/indexing.py:543: SettingWithCopyWarning: \n",
      "A value is trying to be set on a copy of a slice from a DataFrame.\n",
      "Try using .loc[row_indexer,col_indexer] = value instead\n",
      "\n",
      "See the caveats in the documentation: http://pandas.pydata.org/pandas-docs/stable/indexing.html#indexing-view-versus-copy\n",
      "  self.obj[item] = s\n"
     ]
    }
   ],
   "source": [
    "puma.loc[:, 'dayofyear'] = puma.time.dt.dayofyear\n",
    "puma.loc[:, 'dayofweek'] = puma.time.dt.dayofweek\n",
    "puma.loc[:, 'hour'] = puma.time.dt.hour\n",
    "puma = puma.drop(columns=['PUMA', 'status_key', 'dock_name', 'time'])"
   ]
  },
  {
   "cell_type": "code",
   "execution_count": 11,
   "metadata": {},
   "outputs": [],
   "source": [
    "temp = puma.groupby(['dock_id', 'dayofweek', 'dayofyear', 'hour'])['avail_bikes', 'avail_docks', 'in_service'].agg({'avail_bikes':'mean', 'avail_docks':'mean', 'in_service':'min'}).groupby(['dayofyear', 'dayofweek', 'hour']).sum().reset_index()"
   ]
  },
  {
   "cell_type": "code",
   "execution_count": 12,
   "metadata": {},
   "outputs": [],
   "source": [
    "temp.loc[:, 'time'] = pd.to_datetime('2018-' + temp.dayofyear.apply(lambda x: '{:03}'.format(x)) + ' ' + temp.hour.apply(lambda x: '{:02}'.format(x)), format='%Y-%j %H')\n",
    "temp = temp.set_index('time')\n",
    "ix = pd.date_range(temp.index[0], temp.index[-1], freq=\"H\")"
   ]
  },
  {
   "cell_type": "code",
   "execution_count": 13,
   "metadata": {},
   "outputs": [],
   "source": [
    "temp = temp.reindex(ix)"
   ]
  },
  {
   "cell_type": "code",
   "execution_count": 14,
   "metadata": {},
   "outputs": [],
   "source": [
    "temp['avail_bikes-1'] = temp.avail_bikes.shift(-1)\n",
    "temp['avail_bikes-2'] = temp.avail_bikes.shift(-2)\n",
    "temp['avail_bikes-3'] = temp.avail_bikes.shift(-3)\n",
    "temp['avail_bikes-4'] = temp.avail_bikes.shift(-4)\n",
    "temp['avail_bikes-5'] = temp.avail_bikes.shift(-5)"
   ]
  },
  {
   "cell_type": "code",
   "execution_count": 15,
   "metadata": {},
   "outputs": [],
   "source": [
    "temp['avail_docks-1'] = temp.avail_docks.shift(-1)\n",
    "temp['avail_docks-2'] = temp.avail_docks.shift(-2)\n",
    "temp['avail_docks-3'] = temp.avail_docks.shift(-3)\n",
    "temp['avail_docks-4'] = temp.avail_docks.shift(-4)\n",
    "temp['avail_docks-5'] = temp.avail_docks.shift(-5)"
   ]
  },
  {
   "cell_type": "code",
   "execution_count": 18,
   "metadata": {},
   "outputs": [],
   "source": [
    "tot_docks = tot_docks.resample('D').mean().round().reindex(ix).fillna(method='ffill').astype('int')"
   ]
  },
  {
   "cell_type": "code",
   "execution_count": 19,
   "metadata": {},
   "outputs": [],
   "source": [
    "tot_stations = tot_stations.resample('D').mean().round().reindex(ix).fillna(method='ffill').astype('int')"
   ]
  },
  {
   "cell_type": "code",
   "execution_count": 20,
   "metadata": {},
   "outputs": [],
   "source": [
    "temp.loc[:, 'tot_docks'] = tot_docks\n",
    "temp.loc[:, 'tot_stations'] = tot_stations"
   ]
  },
  {
   "cell_type": "code",
   "execution_count": 22,
   "metadata": {},
   "outputs": [],
   "source": [
    "temp.to_csv('puma_3810.csv')"
   ]
  },
  {
   "cell_type": "code",
   "execution_count": null,
   "metadata": {},
   "outputs": [],
   "source": []
  }
 ],
 "metadata": {
  "kernelspec": {
   "display_name": "Python 3",
   "language": "python",
   "name": "python3"
  },
  "language_info": {
   "codemirror_mode": {
    "name": "ipython",
    "version": 3
   },
   "file_extension": ".py",
   "mimetype": "text/x-python",
   "name": "python",
   "nbconvert_exporter": "python",
   "pygments_lexer": "ipython3",
   "version": "3.6.6"
  }
 },
 "nbformat": 4,
 "nbformat_minor": 2
}
